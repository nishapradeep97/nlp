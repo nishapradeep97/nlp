{
  "cells": [
    {
      "cell_type": "markdown",
      "metadata": {
        "id": "view-in-github",
        "colab_type": "text"
      },
      "source": [
        "<a href=\"https://colab.research.google.com/github/nishapradeep97/nlp/blob/main/chatbot_nlp.ipynb\" target=\"_parent\"><img src=\"https://colab.research.google.com/assets/colab-badge.svg\" alt=\"Open In Colab\"/></a>"
      ]
    },
    {
      "cell_type": "code",
      "execution_count": null,
      "metadata": {
        "colab": {
          "base_uri": "https://localhost:8080/"
        },
        "id": "S8R45ozgP4R8",
        "outputId": "1700134a-fbc7-43ff-8ebd-623c6365a3b7"
      },
      "outputs": [
        {
          "name": "stderr",
          "output_type": "stream",
          "text": [
            "[nltk_data] Downloading package omw-1.4 to /root/nltk_data...\n"
          ]
        },
        {
          "data": {
            "text/plain": [
              "True"
            ]
          },
          "execution_count": 23,
          "metadata": {},
          "output_type": "execute_result"
        }
      ],
      "source": [
        "import numpy as np\n",
        "import nltk\n",
        "import string\n",
        "import random\n",
        "nltk.download('omw-1.4')\n"
      ]
    },
    {
      "cell_type": "code",
      "source": [],
      "metadata": {
        "id": "6WfM-seBY1Wu"
      },
      "execution_count": null,
      "outputs": []
    },
    {
      "cell_type": "markdown",
      "metadata": {
        "id": "-WPWz_M3uA8h"
      },
      "source": [
        "importing and reading the dataset\n"
      ]
    },
    {
      "cell_type": "code",
      "execution_count": null,
      "metadata": {
        "colab": {
          "base_uri": "https://localhost:8080/"
        },
        "id": "aDL_NBQDuKhn",
        "outputId": "233a31d0-bf74-4ead-bcc6-d97f54476da6"
      },
      "outputs": [
        {
          "name": "stderr",
          "output_type": "stream",
          "text": [
            "[nltk_data] Downloading package punkt to /root/nltk_data...\n",
            "[nltk_data]   Package punkt is already up-to-date!\n",
            "[nltk_data] Downloading package wordnet to /root/nltk_data...\n",
            "[nltk_data]   Package wordnet is already up-to-date!\n"
          ]
        }
      ],
      "source": [
        "f=open('chatbot.txt','r',errors='ignore')\n",
        "docs=f.read()\n",
        "docs=docs.lower()\n",
        "nltk.download('punkt')#punkt tokenizer\n",
        "nltk.download('wordnet')#wordnet dictionary\n",
        "sent_token=nltk.sent_tokenize(docs)#convert doc to list of sentences\n",
        "word_token=nltk.word_tokenize(docs)#convert doc to list of words\n",
        "\n"
      ]
    },
    {
      "cell_type": "code",
      "execution_count": null,
      "metadata": {
        "colab": {
          "base_uri": "https://localhost:8080/"
        },
        "id": "OyhwqMMCqOSO",
        "outputId": "18f0cdc7-dc0a-40c6-d5b1-b664ef47a39a"
      },
      "outputs": [
        {
          "data": {
            "text/plain": [
              "['data science is an interdisciplinary field that uses scientific methods, processes, algorithms and systems to extract or extrapolate knowledge and insights from noisy, structured and unstructured data,[1][2] and apply knowledge from data across a broad range of application domains.',\n",
              " 'data science is related to data mining, machine learning, big data, computational statistics and analytics.']"
            ]
          },
          "execution_count": 9,
          "metadata": {},
          "output_type": "execute_result"
        }
      ],
      "source": [
        "sent_token[:2]"
      ]
    },
    {
      "cell_type": "code",
      "execution_count": null,
      "metadata": {
        "colab": {
          "base_uri": "https://localhost:8080/"
        },
        "id": "Yx0gw0yyqyyi",
        "outputId": "16d72f23-aa16-4e13-9a35-8b0543a5e0f0"
      },
      "outputs": [
        {
          "data": {
            "text/plain": [
              "['data', 'science']"
            ]
          },
          "execution_count": 8,
          "metadata": {},
          "output_type": "execute_result"
        }
      ],
      "source": [
        "word_token[:2]"
      ]
    },
    {
      "cell_type": "markdown",
      "metadata": {
        "id": "2WYFlw7CrPRl"
      },
      "source": [
        "TEXT PREPROCESSING\n"
      ]
    },
    {
      "cell_type": "code",
      "execution_count": null,
      "metadata": {
        "id": "l0mLixt3rTAs"
      },
      "outputs": [],
      "source": [
        "lemmer=nltk.stem.WordNetLemmatizer()\n",
        "#wordnet is a semanticaly oriented dictionary of english in nltk\n",
        "def lemtoken(tokens):\n",
        "  return [lemmer.lemmatize(token) for token in tokens]\n",
        "remove_punct_dict=dict((ord(punct),None) for punct in string.punctuation)\n",
        "def lemnormalize(text):\n",
        "  return lemtoken(nltk.word_tokenize(text.lower().translate(remove_punct_dict)))\n"
      ]
    },
    {
      "cell_type": "markdown",
      "metadata": {
        "id": "J7nU5Yys2PVr"
      },
      "source": [
        "# **greeting function**"
      ]
    },
    {
      "cell_type": "code",
      "execution_count": null,
      "metadata": {
        "id": "0dfdbxkQ2XnS"
      },
      "outputs": [],
      "source": [
        "greet_input=(\"hello\",\"hai\",\"greetings\",\"what's up\",\"hey\")\n",
        "greet_response=(\"hi\",\"hello\",\"hi there\",\"I am glad to talk with you\")\n",
        "def greet(sentence):\n",
        "  for word in sentence.split():\n",
        "    if word.lower() in greet_input:\n",
        "      return random.choice(greet_response)\n",
        "      "
      ]
    },
    {
      "cell_type": "markdown",
      "metadata": {
        "id": "HXyLTs-X4DGa"
      },
      "source": [
        "**# Response generation**"
      ]
    },
    {
      "cell_type": "code",
      "execution_count": null,
      "metadata": {
        "id": "toHSlPAFBjPo"
      },
      "outputs": [],
      "source": [
        "from sklearn.feature_extraction.text import TfidfVectorizer\n",
        "from sklearn.metrics.pairwise import cosine_similarity\n"
      ]
    },
    {
      "cell_type": "code",
      "execution_count": null,
      "metadata": {
        "id": "nFsQcimcEBdf"
      },
      "outputs": [],
      "source": [
        "def response(user_response):\n",
        "  chat1_response=''\n",
        "  Tfidfvec=TfidfVectorizer(tokenizer=lemnormalize,stop_words='english')\n",
        "  tfidf=Tfidfvec.fit_transform(sent_token)\n",
        "  val=cosine_similarity(tfidf[-1],tfidf)\n",
        "  idx=val.argsort()[0][-2]\n",
        "  flat=val.flatten()\n",
        "  flat.sort()\n",
        "  re_tfidf=flat[-2]\n",
        "  if(re_tfidf==0):\n",
        "    chat1_response=chat1_response+\"Sorry!,I can't understand you\"\n",
        "    return chat1_response\n",
        "  else:\n",
        "    chat1_response=chat1_response+sent_token[idx]\n",
        "    return chat1_response"
      ]
    },
    {
      "cell_type": "markdown",
      "metadata": {
        "id": "ZK9FI4QaGido"
      },
      "source": [
        "# **Conversation from Start to end**"
      ]
    },
    {
      "cell_type": "code",
      "execution_count": null,
      "metadata": {
        "colab": {
          "background_save": true,
          "base_uri": "https://localhost:8080/"
        },
        "id": "t4njmFATGxwc",
        "outputId": "ad372500-e417-44a0-d1f5-b6d719afea52"
      },
      "outputs": [
        {
          "name": "stdout",
          "output_type": "stream",
          "text": [
            "Chatbot:Hai Let's have the conversation! Also if you want to exit anytime, just type bye\n",
            "Chatbot:I am glad to talk with you\n",
            "Chatbot:"
          ]
        },
        {
          "name": "stderr",
          "output_type": "stream",
          "text": [
            "/usr/local/lib/python3.8/dist-packages/sklearn/feature_extraction/text.py:396: UserWarning: Your stop_words may be inconsistent with your preprocessing. Tokenizing the stop words generated tokens ['ha', 'le', 'u', 'wa'] not in stop_words.\n",
            "  warnings.warn(\n"
          ]
        },
        {
          "name": "stdout",
          "output_type": "stream",
          "text": [
            "\"what is data science?\n",
            "Chatbot:\"how data science will impact future of businesses?\".\n",
            "Chatbot:\"about data science\".\n",
            "Chatbot:[3] in 1996, the international federation of classification societies became the first conference to specifically feature data science as a topic.\n",
            "Chatbot:\"how data science will impact future of businesses?\".\n"
          ]
        }
      ],
      "source": [
        "flag=True\n",
        "print(\"Chatbot:Hai Let's have the conversation! Also if you want to exit anytime, just type bye\")\n",
        "while(flag==True):\n",
        "  user_response=input()\n",
        "  user_response=user_response.lower()\n",
        "  if(user_response!='bye'):\n",
        "    if(user_response=='thanks'or user_response=='thank you'):\n",
        "      flag=False\n",
        "      print(\"Chatbot: You are welcome!\")\n",
        "    else:\n",
        "      if(greet(user_response)!=None):\n",
        "        print(\"Chatbot:\"+greet(user_response))\n",
        "      else:\n",
        "        sent_token.append(user_response)\n",
        "        word_token=word_token+nltk.word_tokenize(user_response)\n",
        "        finalwords=list(set(word_token))\n",
        "        print(\"Chatbot:\",end=\"\")\n",
        "        print(response(user_response))\n",
        "        sent_token.remove(user_response)\n",
        "  else:\n",
        "    flag=False\n",
        "    print(\"Chatbot: Good Bye and take care\")\n",
        "\n",
        "\n"
      ]
    },
    {
      "cell_type": "markdown",
      "metadata": {
        "id": "lHKehDuvGt79"
      },
      "source": []
    }
  ],
  "metadata": {
    "colab": {
      "provenance": [],
      "authorship_tag": "ABX9TyO32c2FMKc3Bd51hr7V3Uhw",
      "include_colab_link": true
    },
    "kernelspec": {
      "display_name": "Python 3",
      "name": "python3"
    },
    "language_info": {
      "name": "python"
    }
  },
  "nbformat": 4,
  "nbformat_minor": 0
}