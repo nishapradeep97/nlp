{
  "nbformat": 4,
  "nbformat_minor": 0,
  "metadata": {
    "colab": {
      "provenance": [],
      "authorship_tag": "ABX9TyPEA4hLRicp0X9ikFph2nc+",
      "include_colab_link": true
    },
    "kernelspec": {
      "name": "python3",
      "display_name": "Python 3"
    },
    "language_info": {
      "name": "python"
    }
  },
  "cells": [
    {
      "cell_type": "markdown",
      "metadata": {
        "id": "view-in-github",
        "colab_type": "text"
      },
      "source": [
        "<a href=\"https://colab.research.google.com/github/nishapradeep97/nlp/blob/main/chatbot_nlp.ipynb\" target=\"_parent\"><img src=\"https://colab.research.google.com/assets/colab-badge.svg\" alt=\"Open In Colab\"/></a>"
      ]
    },
    {
      "cell_type": "code",
      "execution_count": 2,
      "metadata": {
        "id": "S8R45ozgP4R8"
      },
      "outputs": [],
      "source": [
        "import numpy as np\n",
        "import nltk\n",
        "import string\n",
        "import random\n"
      ]
    },
    {
      "cell_type": "markdown",
      "source": [
        "importing and reading the dataset\n"
      ],
      "metadata": {
        "id": "-WPWz_M3uA8h"
      }
    },
    {
      "cell_type": "code",
      "source": [
        "f=open('chatbot.txt','r',errors='ignore')\n",
        "docs=f.read()\n",
        "docs=docs.lower()\n",
        "nltk.download('punkt')#punkt tokenizer\n",
        "nltk.download('wordnet')#wordnet dictionary\n",
        "sent_token=nltk.sent_tokenize(docs)#convert doc to list of sentences\n",
        "word_token=nltk.word_tokenize(docs)#convert doc to list of words\n",
        "\n"
      ],
      "metadata": {
        "id": "aDL_NBQDuKhn",
        "colab": {
          "base_uri": "https://localhost:8080/"
        },
        "outputId": "a555aa8c-a170-451f-9359-d899c92a743e"
      },
      "execution_count": 4,
      "outputs": [
        {
          "output_type": "stream",
          "name": "stderr",
          "text": [
            "[nltk_data] Downloading package punkt to /root/nltk_data...\n",
            "[nltk_data]   Unzipping tokenizers/punkt.zip.\n",
            "[nltk_data] Downloading package wordnet to /root/nltk_data...\n",
            "[nltk_data]   Package wordnet is already up-to-date!\n"
          ]
        }
      ]
    },
    {
      "cell_type": "code",
      "source": [
        "sent_token[:2]"
      ],
      "metadata": {
        "colab": {
          "base_uri": "https://localhost:8080/"
        },
        "id": "OyhwqMMCqOSO",
        "outputId": "d9b745c0-c2c5-4bbd-8d1a-ad7d2bd96d8d"
      },
      "execution_count": 11,
      "outputs": [
        {
          "output_type": "execute_result",
          "data": {
            "text/plain": [
              "['data science is an interdisciplinary field that uses scientific methods, processes, algorithms and systems to extract or extrapolate knowledge and insights from noisy, structured and unstructured data,[1][2] and apply knowledge from data across a broad range of application domains.',\n",
              " 'data science is related to data mining, machine learning, big data, computational statistics and analytics.']"
            ]
          },
          "metadata": {},
          "execution_count": 11
        }
      ]
    },
    {
      "cell_type": "code",
      "source": [
        "word_token[:2]"
      ],
      "metadata": {
        "colab": {
          "base_uri": "https://localhost:8080/"
        },
        "id": "Yx0gw0yyqyyi",
        "outputId": "32459a99-82d8-4fe8-9af1-adf6d27b2a48"
      },
      "execution_count": 10,
      "outputs": [
        {
          "output_type": "execute_result",
          "data": {
            "text/plain": [
              "['data', 'science']"
            ]
          },
          "metadata": {},
          "execution_count": 10
        }
      ]
    },
    {
      "cell_type": "markdown",
      "source": [
        "TEXT PREPROCESSING\n"
      ],
      "metadata": {
        "id": "2WYFlw7CrPRl"
      }
    },
    {
      "cell_type": "code",
      "source": [],
      "metadata": {
        "id": "l0mLixt3rTAs"
      },
      "execution_count": null,
      "outputs": []
    }
  ]
}