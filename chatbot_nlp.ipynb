{
  "nbformat": 4,
  "nbformat_minor": 0,
  "metadata": {
    "colab": {
      "provenance": [],
      "authorship_tag": "ABX9TyOYtUbKOz/WiplPspu/rhjO",
      "include_colab_link": true
    },
    "kernelspec": {
      "name": "python3",
      "display_name": "Python 3"
    },
    "language_info": {
      "name": "python"
    }
  },
  "cells": [
    {
      "cell_type": "markdown",
      "metadata": {
        "id": "view-in-github",
        "colab_type": "text"
      },
      "source": [
        "<a href=\"https://colab.research.google.com/github/nishapradeep97/nlp/blob/main/chatbot_nlp.ipynb\" target=\"_parent\"><img src=\"https://colab.research.google.com/assets/colab-badge.svg\" alt=\"Open In Colab\"/></a>"
      ]
    },
    {
      "cell_type": "code",
      "execution_count": 23,
      "metadata": {
        "id": "S8R45ozgP4R8",
        "colab": {
          "base_uri": "https://localhost:8080/"
        },
        "outputId": "1700134a-fbc7-43ff-8ebd-623c6365a3b7"
      },
      "outputs": [
        {
          "output_type": "stream",
          "name": "stderr",
          "text": [
            "[nltk_data] Downloading package omw-1.4 to /root/nltk_data...\n"
          ]
        },
        {
          "output_type": "execute_result",
          "data": {
            "text/plain": [
              "True"
            ]
          },
          "metadata": {},
          "execution_count": 23
        }
      ],
      "source": [
        "import numpy as np\n",
        "import nltk\n",
        "import string\n",
        "import random\n",
        "nltk.download('omw-1.4')\n"
      ]
    },
    {
      "cell_type": "markdown",
      "source": [
        "importing and reading the dataset\n"
      ],
      "metadata": {
        "id": "-WPWz_M3uA8h"
      }
    },
    {
      "cell_type": "code",
      "source": [
        "f=open('chatbot.txt','r',errors='ignore')\n",
        "docs=f.read()\n",
        "docs=docs.lower()\n",
        "nltk.download('punkt')#punkt tokenizer\n",
        "nltk.download('wordnet')#wordnet dictionary\n",
        "sent_token=nltk.sent_tokenize(docs)#convert doc to list of sentences\n",
        "word_token=nltk.word_tokenize(docs)#convert doc to list of words\n",
        "\n"
      ],
      "metadata": {
        "id": "aDL_NBQDuKhn",
        "colab": {
          "base_uri": "https://localhost:8080/"
        },
        "outputId": "233a31d0-bf74-4ead-bcc6-d97f54476da6"
      },
      "execution_count": 24,
      "outputs": [
        {
          "output_type": "stream",
          "name": "stderr",
          "text": [
            "[nltk_data] Downloading package punkt to /root/nltk_data...\n",
            "[nltk_data]   Package punkt is already up-to-date!\n",
            "[nltk_data] Downloading package wordnet to /root/nltk_data...\n",
            "[nltk_data]   Package wordnet is already up-to-date!\n"
          ]
        }
      ]
    },
    {
      "cell_type": "code",
      "source": [
        "sent_token[:2]"
      ],
      "metadata": {
        "colab": {
          "base_uri": "https://localhost:8080/"
        },
        "id": "OyhwqMMCqOSO",
        "outputId": "18f0cdc7-dc0a-40c6-d5b1-b664ef47a39a"
      },
      "execution_count": 9,
      "outputs": [
        {
          "output_type": "execute_result",
          "data": {
            "text/plain": [
              "['data science is an interdisciplinary field that uses scientific methods, processes, algorithms and systems to extract or extrapolate knowledge and insights from noisy, structured and unstructured data,[1][2] and apply knowledge from data across a broad range of application domains.',\n",
              " 'data science is related to data mining, machine learning, big data, computational statistics and analytics.']"
            ]
          },
          "metadata": {},
          "execution_count": 9
        }
      ]
    },
    {
      "cell_type": "code",
      "source": [
        "word_token[:2]"
      ],
      "metadata": {
        "colab": {
          "base_uri": "https://localhost:8080/"
        },
        "id": "Yx0gw0yyqyyi",
        "outputId": "16d72f23-aa16-4e13-9a35-8b0543a5e0f0"
      },
      "execution_count": 8,
      "outputs": [
        {
          "output_type": "execute_result",
          "data": {
            "text/plain": [
              "['data', 'science']"
            ]
          },
          "metadata": {},
          "execution_count": 8
        }
      ]
    },
    {
      "cell_type": "markdown",
      "source": [
        "TEXT PREPROCESSING\n"
      ],
      "metadata": {
        "id": "2WYFlw7CrPRl"
      }
    },
    {
      "cell_type": "code",
      "source": [
        "lemmer=nltk.stem.WordNetLemmatizer()\n",
        "#wordnet is a semanticaly oriented dictionary of english in nltk\n",
        "def lemtoken(tokens):\n",
        "  return [lemmer.lemmatize(token) for token in tokens]\n",
        "remove_punct_dict=dict((ord(punct),None) for punct in string.punctuation)\n",
        "def lemnormalize(text):\n",
        "  return lemtoken(nltk.word_tokenize(text.lower().translate(remove_punct_dict)))\n"
      ],
      "metadata": {
        "id": "l0mLixt3rTAs"
      },
      "execution_count": 25,
      "outputs": []
    },
    {
      "cell_type": "markdown",
      "source": [
        "# **greeting function**"
      ],
      "metadata": {
        "id": "J7nU5Yys2PVr"
      }
    },
    {
      "cell_type": "code",
      "source": [
        "greet_input=(\"hello\",\"hai\",\"greetings\",\"what's up\",\"hey\")\n",
        "greet_response=(\"hi\",\"hello\",\"hi there\",\"I am glad to talk with you\")\n",
        "def greet(sentence):\n",
        "  for word in sentence.split():\n",
        "    if word.lower() in greet_input:\n",
        "      return random.choice(greet_response)\n",
        "      "
      ],
      "metadata": {
        "id": "0dfdbxkQ2XnS"
      },
      "execution_count": 26,
      "outputs": []
    },
    {
      "cell_type": "markdown",
      "source": [
        "**# Response generation**"
      ],
      "metadata": {
        "id": "HXyLTs-X4DGa"
      }
    },
    {
      "cell_type": "code",
      "source": [
        "from sklearn.feature_extraction.text import TfidfVectorizer\n",
        "from sklearn.metrics.pairwise import cosine_similarity\n"
      ],
      "metadata": {
        "id": "toHSlPAFBjPo"
      },
      "execution_count": 27,
      "outputs": []
    },
    {
      "cell_type": "code",
      "source": [
        "def response(user_response):\n",
        "  chat1_response=''\n",
        "  Tfidfvec=TfidfVectorizer(tokenizer=lemnormalize,stop_words='english')\n",
        "  tfidf=Tfidfvec.fit_transform(sent_token)\n",
        "  val=cosine_similarity(tfidf[-1],tfidf)\n",
        "  idx=val.argsort()[0][-2]\n",
        "  flat=val.flatten()\n",
        "  flat.sort()\n",
        "  re_tfidf=flat[-2]\n",
        "  if(re_tfidf==0):\n",
        "    chat1_response=chat1_response+\"Sorry!,I can't understand you\"\n",
        "    return chat1_response\n",
        "  else:\n",
        "    chat1_response=chat1_response+sent_token[idx]\n",
        "    return chat1_response"
      ],
      "metadata": {
        "id": "nFsQcimcEBdf"
      },
      "execution_count": 28,
      "outputs": []
    },
    {
      "cell_type": "markdown",
      "source": [
        "# **Conversation from Start to end**"
      ],
      "metadata": {
        "id": "ZK9FI4QaGido"
      }
    },
    {
      "cell_type": "code",
      "source": [
        "flag=True\n",
        "print(\"Chatbot:Hai Let's have the conversation! Also if you want to exit anytime, just type bye\")\n",
        "while(flag==True):\n",
        "  user_response=input()\n",
        "  user_response=user_response.lower()\n",
        "  if(user_response!='bye'):\n",
        "    if(user_response=='thanks'or user_response=='thank you'):\n",
        "      flag=False\n",
        "      print(\"Chatbot: You are welcome!\")\n",
        "    else:\n",
        "      if(greet(user_response)!=None):\n",
        "        print(\"Chatbot:\"+greet(user_response))\n",
        "      else:\n",
        "        sent_token.append(user_response)\n",
        "        word_token=word_token+nltk.word_tokenize(user_response)\n",
        "        finalwords=list(set(word_token))\n",
        "        print(\"Chatbot:\",end=\"\")\n",
        "        print(response(user_response))\n",
        "        sent_token.remove(user_response)\n",
        "  else:\n",
        "    flag=False\n",
        "    print(\"Chatbot: Good Bye and take care\")\n",
        "\n",
        "\n"
      ],
      "metadata": {
        "colab": {
          "base_uri": "https://localhost:8080/"
        },
        "id": "t4njmFATGxwc",
        "outputId": "fa3cde62-02c9-43af-8b57-2f679dba5e97"
      },
      "execution_count": null,
      "outputs": [
        {
          "output_type": "stream",
          "name": "stdout",
          "text": [
            "Chatbot:Hai Let's have the conversation! Also if you want to exit anytime, just type bye\n",
            "hello\n",
            "Chatbot:I am glad to talk with you\n",
            "data\n",
            "Chatbot:"
          ]
        },
        {
          "output_type": "stream",
          "name": "stderr",
          "text": [
            "/usr/local/lib/python3.8/dist-packages/sklearn/feature_extraction/text.py:396: UserWarning: Your stop_words may be inconsistent with your preprocessing. Tokenizing the stop words generated tokens ['ha', 'le', 'u', 'wa'] not in stop_words.\n",
            "  warnings.warn(\n"
          ]
        },
        {
          "output_type": "stream",
          "name": "stdout",
          "text": [
            "\"what is data science?\n",
            "impact\n",
            "Chatbot:\"how data science will impact future of businesses?\".\n",
            "data science\n",
            "Chatbot:\"about data science\".\n",
            "features\n",
            "Chatbot:[3] in 1996, the international federation of classification societies became the first conference to specifically feature data science as a topic.\n",
            "impact of data science\n",
            "Chatbot:\"how data science will impact future of businesses?\".\n"
          ]
        }
      ]
    },
    {
      "cell_type": "markdown",
      "source": [],
      "metadata": {
        "id": "lHKehDuvGt79"
      }
    }
  ]
}