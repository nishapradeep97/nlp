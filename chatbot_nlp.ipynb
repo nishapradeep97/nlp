{
  "nbformat": 4,
  "nbformat_minor": 0,
  "metadata": {
    "colab": {
      "provenance": [],
      "authorship_tag": "ABX9TyM7M7ZksIsbbkHW6W15jjPH",
      "include_colab_link": true
    },
    "kernelspec": {
      "name": "python3",
      "display_name": "Python 3"
    },
    "language_info": {
      "name": "python"
    }
  },
  "cells": [
    {
      "cell_type": "markdown",
      "metadata": {
        "id": "view-in-github",
        "colab_type": "text"
      },
      "source": [
        "<a href=\"https://colab.research.google.com/github/nishapradeep97/nlp/blob/main/chatbot_nlp.ipynb\" target=\"_parent\"><img src=\"https://colab.research.google.com/assets/colab-badge.svg\" alt=\"Open In Colab\"/></a>"
      ]
    },
    {
      "cell_type": "code",
      "execution_count": 1,
      "metadata": {
        "id": "S8R45ozgP4R8"
      },
      "outputs": [],
      "source": [
        "import numpy as np\n",
        "import nltk\n",
        "import string\n",
        "import random\n"
      ]
    },
    {
      "cell_type": "markdown",
      "source": [
        "importing and reading the dataset\n"
      ],
      "metadata": {
        "id": "-WPWz_M3uA8h"
      }
    },
    {
      "cell_type": "code",
      "source": [
        "f=open('chatbot.txt','r',errors='ignore')\n",
        "docs=f.read()\n",
        "docs=docs.lower()\n",
        "nltk.download('punkt')#punkt tokenizer\n",
        "nltk.download('wordnet')#wordnet dictionary\n",
        "sent_token=nltk.sent_tokenize(docs)#convert doc to list of sentences\n",
        "word_token=nltk.word_tokenize(docs)#convert doc to list of words\n",
        "\n"
      ],
      "metadata": {
        "id": "aDL_NBQDuKhn",
        "colab": {
          "base_uri": "https://localhost:8080/"
        },
        "outputId": "1f818a51-01c0-4e7c-a5eb-5a9e4137b1f0"
      },
      "execution_count": 2,
      "outputs": [
        {
          "output_type": "stream",
          "name": "stderr",
          "text": [
            "[nltk_data] Downloading package punkt to /root/nltk_data...\n",
            "[nltk_data]   Unzipping tokenizers/punkt.zip.\n",
            "[nltk_data] Downloading package wordnet to /root/nltk_data...\n"
          ]
        }
      ]
    },
    {
      "cell_type": "code",
      "source": [
        "sent_token[:2]"
      ],
      "metadata": {
        "colab": {
          "base_uri": "https://localhost:8080/"
        },
        "id": "OyhwqMMCqOSO",
        "outputId": "d9b745c0-c2c5-4bbd-8d1a-ad7d2bd96d8d"
      },
      "execution_count": null,
      "outputs": [
        {
          "output_type": "execute_result",
          "data": {
            "text/plain": [
              "['data science is an interdisciplinary field that uses scientific methods, processes, algorithms and systems to extract or extrapolate knowledge and insights from noisy, structured and unstructured data,[1][2] and apply knowledge from data across a broad range of application domains.',\n",
              " 'data science is related to data mining, machine learning, big data, computational statistics and analytics.']"
            ]
          },
          "metadata": {},
          "execution_count": 11
        }
      ]
    },
    {
      "cell_type": "code",
      "source": [
        "word_token[:2]"
      ],
      "metadata": {
        "colab": {
          "base_uri": "https://localhost:8080/"
        },
        "id": "Yx0gw0yyqyyi",
        "outputId": "32459a99-82d8-4fe8-9af1-adf6d27b2a48"
      },
      "execution_count": null,
      "outputs": [
        {
          "output_type": "execute_result",
          "data": {
            "text/plain": [
              "['data', 'science']"
            ]
          },
          "metadata": {},
          "execution_count": 10
        }
      ]
    },
    {
      "cell_type": "markdown",
      "source": [
        "TEXT PREPROCESSING\n"
      ],
      "metadata": {
        "id": "2WYFlw7CrPRl"
      }
    },
    {
      "cell_type": "code",
      "source": [
        "lemmer=nltk.stem.WordNetLemmatizer()\n",
        "#wordnet is a semanticaly oriented dictionary of english in nltk\n",
        "def lemtoken(tokens):\n",
        "  return [lemmer.lemmatize(token) for token in tokens]\n",
        "remove_punct_dict=dict((ord(punct),None) for punct in string.punctuation)\n",
        "def lemnormalize(text):\n",
        "  return lemtoken(nltk.word_tokenize(text.lower().translate(remove_punct_dict)))\n"
      ],
      "metadata": {
        "id": "l0mLixt3rTAs"
      },
      "execution_count": 3,
      "outputs": []
    },
    {
      "cell_type": "markdown",
      "source": [
        "# **greeting function**"
      ],
      "metadata": {
        "id": "J7nU5Yys2PVr"
      }
    },
    {
      "cell_type": "code",
      "source": [
        "greet_input=(\"hello\",\"hai\",\"greetings\",\"what's up\",\"hey\")\n",
        "greet_response=(\"hi\",\"hello\",\"hi there\",\"I am glad to talk with you\")\n",
        "def greet(sentence):\n",
        "  for word in sentence.split():\n",
        "    if word.lower() in greet_input:\n",
        "      return random.choice(greet_response)\n",
        "      "
      ],
      "metadata": {
        "id": "0dfdbxkQ2XnS"
      },
      "execution_count": 4,
      "outputs": []
    },
    {
      "cell_type": "markdown",
      "source": [],
      "metadata": {
        "id": "HXyLTs-X4DGa"
      }
    }
  ]
}